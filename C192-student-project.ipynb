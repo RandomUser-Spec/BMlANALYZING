{
 "cells": [
  {
   "cell_type": "code",
   "execution_count": 102,
   "metadata": {},
   "outputs": [
    {
     "name": "stdout",
     "output_type": "stream",
     "text": [
      "Name : \n",
      "This is a CSV of more than 1300 rows which has bmi data.\n",
      "The task is to find out what is the percentage of people who are underweight and healthy. And plot a pie chart around it\n",
      "Another task is to find out what is the percentage of male and female who are underweight and healthy. And plot a pie chart around it\n"
     ]
    }
   ],
   "source": [
    "print(\"Name : \")\n",
    "print(\"This is a CSV of more than 1300 rows which has bmi data.\")\n",
    "print(\"The task is to find out what is the percentage of people who are underweight and healthy. And plot a pie chart around it\")\n",
    "print(\"Another task is to find out what is the percentage of male and female who are underweight and healthy. And plot a pie chart around it\")\n",
    "\n"
   ]
  },
  {
   "cell_type": "code",
   "execution_count": 1,
   "metadata": {},
   "outputs": [
    {
     "data": {
      "text/html": [
       "<div>\n",
       "<style scoped>\n",
       "    .dataframe tbody tr th:only-of-type {\n",
       "        vertical-align: middle;\n",
       "    }\n",
       "\n",
       "    .dataframe tbody tr th {\n",
       "        vertical-align: top;\n",
       "    }\n",
       "\n",
       "    .dataframe thead th {\n",
       "        text-align: right;\n",
       "    }\n",
       "</style>\n",
       "<table border=\"1\" class=\"dataframe\">\n",
       "  <thead>\n",
       "    <tr style=\"text-align: right;\">\n",
       "      <th></th>\n",
       "      <th>age</th>\n",
       "      <th>gender</th>\n",
       "      <th>bmi</th>\n",
       "      <th>children</th>\n",
       "      <th>smoker</th>\n",
       "      <th>region</th>\n",
       "      <th>charges</th>\n",
       "    </tr>\n",
       "  </thead>\n",
       "  <tbody>\n",
       "    <tr>\n",
       "      <th>0</th>\n",
       "      <td>19</td>\n",
       "      <td>female</td>\n",
       "      <td>27.900</td>\n",
       "      <td>0</td>\n",
       "      <td>yes</td>\n",
       "      <td>southwest</td>\n",
       "      <td>16884.92400</td>\n",
       "    </tr>\n",
       "    <tr>\n",
       "      <th>1</th>\n",
       "      <td>18</td>\n",
       "      <td>male</td>\n",
       "      <td>33.770</td>\n",
       "      <td>1</td>\n",
       "      <td>no</td>\n",
       "      <td>southeast</td>\n",
       "      <td>1725.55230</td>\n",
       "    </tr>\n",
       "    <tr>\n",
       "      <th>2</th>\n",
       "      <td>28</td>\n",
       "      <td>male</td>\n",
       "      <td>33.000</td>\n",
       "      <td>3</td>\n",
       "      <td>no</td>\n",
       "      <td>southeast</td>\n",
       "      <td>4449.46200</td>\n",
       "    </tr>\n",
       "    <tr>\n",
       "      <th>3</th>\n",
       "      <td>33</td>\n",
       "      <td>male</td>\n",
       "      <td>22.705</td>\n",
       "      <td>0</td>\n",
       "      <td>no</td>\n",
       "      <td>northwest</td>\n",
       "      <td>21984.47061</td>\n",
       "    </tr>\n",
       "    <tr>\n",
       "      <th>4</th>\n",
       "      <td>32</td>\n",
       "      <td>male</td>\n",
       "      <td>28.880</td>\n",
       "      <td>0</td>\n",
       "      <td>no</td>\n",
       "      <td>northwest</td>\n",
       "      <td>3866.85520</td>\n",
       "    </tr>\n",
       "    <tr>\n",
       "      <th>...</th>\n",
       "      <td>...</td>\n",
       "      <td>...</td>\n",
       "      <td>...</td>\n",
       "      <td>...</td>\n",
       "      <td>...</td>\n",
       "      <td>...</td>\n",
       "      <td>...</td>\n",
       "    </tr>\n",
       "    <tr>\n",
       "      <th>1333</th>\n",
       "      <td>50</td>\n",
       "      <td>male</td>\n",
       "      <td>30.970</td>\n",
       "      <td>3</td>\n",
       "      <td>no</td>\n",
       "      <td>northwest</td>\n",
       "      <td>10600.54830</td>\n",
       "    </tr>\n",
       "    <tr>\n",
       "      <th>1334</th>\n",
       "      <td>18</td>\n",
       "      <td>female</td>\n",
       "      <td>31.920</td>\n",
       "      <td>0</td>\n",
       "      <td>no</td>\n",
       "      <td>northeast</td>\n",
       "      <td>2205.98080</td>\n",
       "    </tr>\n",
       "    <tr>\n",
       "      <th>1335</th>\n",
       "      <td>18</td>\n",
       "      <td>female</td>\n",
       "      <td>36.850</td>\n",
       "      <td>0</td>\n",
       "      <td>no</td>\n",
       "      <td>southeast</td>\n",
       "      <td>1629.83350</td>\n",
       "    </tr>\n",
       "    <tr>\n",
       "      <th>1336</th>\n",
       "      <td>21</td>\n",
       "      <td>female</td>\n",
       "      <td>25.800</td>\n",
       "      <td>0</td>\n",
       "      <td>no</td>\n",
       "      <td>southwest</td>\n",
       "      <td>2007.94500</td>\n",
       "    </tr>\n",
       "    <tr>\n",
       "      <th>1337</th>\n",
       "      <td>61</td>\n",
       "      <td>female</td>\n",
       "      <td>29.070</td>\n",
       "      <td>0</td>\n",
       "      <td>yes</td>\n",
       "      <td>northwest</td>\n",
       "      <td>29141.36030</td>\n",
       "    </tr>\n",
       "  </tbody>\n",
       "</table>\n",
       "<p>1338 rows × 7 columns</p>\n",
       "</div>"
      ],
      "text/plain": [
       "      age  gender     bmi  children smoker     region      charges\n",
       "0      19  female  27.900         0    yes  southwest  16884.92400\n",
       "1      18    male  33.770         1     no  southeast   1725.55230\n",
       "2      28    male  33.000         3     no  southeast   4449.46200\n",
       "3      33    male  22.705         0     no  northwest  21984.47061\n",
       "4      32    male  28.880         0     no  northwest   3866.85520\n",
       "...   ...     ...     ...       ...    ...        ...          ...\n",
       "1333   50    male  30.970         3     no  northwest  10600.54830\n",
       "1334   18  female  31.920         0     no  northeast   2205.98080\n",
       "1335   18  female  36.850         0     no  southeast   1629.83350\n",
       "1336   21  female  25.800         0     no  southwest   2007.94500\n",
       "1337   61  female  29.070         0    yes  northwest  29141.36030\n",
       "\n",
       "[1338 rows x 7 columns]"
      ]
     },
     "execution_count": 1,
     "metadata": {},
     "output_type": "execute_result"
    }
   ],
   "source": [
    "#BMI Data\n",
    "\n",
    "#predefine code\n",
    "import pandas as pd\n",
    "import matplotlib .pyplot as plt\n",
    "\n",
    "dataframe = pd.read_csv(\"bmi.csv\")\n",
    "df = dataframe.dropna()\n",
    "bmi = df['bmi']\n",
    "df\n"
   ]
  },
  {
   "cell_type": "code",
   "execution_count": 3,
   "metadata": {},
   "outputs": [
    {
     "name": "stdout",
     "output_type": "stream",
     "text": [
      "    index  gender\n",
      "0      28    male\n",
      "1     128  female\n",
      "2     172    male\n",
      "3     198  female\n",
      "4     232  female\n",
      "5     250    male\n",
      "6     380  female\n",
      "7     410    male\n",
      "8     412  female\n",
      "9     428  female\n",
      "10    680  female\n",
      "11    821    male\n",
      "12    950    male\n",
      "13   1029  female\n",
      "14   1074  female\n",
      "15   1085  female\n",
      "16   1133  female\n",
      "17   1205    male\n",
      "18   1226    male\n",
      "19   1286  female\n",
      "20\n"
     ]
    }
   ],
   "source": [
    "#Task 1\n",
    "#How many people are underweight and create a dataframe out of it\n",
    "underweight_people = df.loc[bmi < 18.5]['gender'].reset_index(name = 'gender')\n",
    "print(underweight_people)\n",
    "underweight_count = underweight_people['index'].count()\n",
    "print(underweight_count)"
   ]
  },
  {
   "cell_type": "code",
   "execution_count": 4,
   "metadata": {},
   "outputs": [
    {
     "name": "stdout",
     "output_type": "stream",
     "text": [
      "     index  gender\n",
      "0        3    male\n",
      "1       15    male\n",
      "2       17    male\n",
      "3       26  female\n",
      "4       35    male\n",
      "..     ...     ...\n",
      "216   1304    male\n",
      "217   1306  female\n",
      "218   1314  female\n",
      "219   1316  female\n",
      "220   1328  female\n",
      "\n",
      "[221 rows x 2 columns]\n",
      "221\n"
     ]
    }
   ],
   "source": [
    "#Task 2\n",
    "#How many people have normal weight and create a dataframe out of it\n",
    "normalweight = df.loc[(bmi > 18.5) & (bmi < 24.9)]['gender'].reset_index(name = 'gender')\n",
    "print(normalweight)\n",
    "normalweight_count = normalweight['index'].count()\n",
    "print(normalweight_count)\n"
   ]
  },
  {
   "cell_type": "code",
   "execution_count": 7,
   "metadata": {},
   "outputs": [
    {
     "data": {
      "image/png": "[encoded data removed]",
      "text/plain": [
       "<Figure size 432x288 with 1 Axes>"
      ]
     },
     "metadata": {},
     "output_type": "display_data"
    }
   ],
   "source": [
    "#Task 3\n",
    "#Plot a pie chart as per the percentage of people who are underweight and healthy. \n",
    "value = [underweight_count, normalweight_count]\n",
    "label = [\"Under Weight\", \"Normal Weight\"]\n",
    "\n",
    "plt.pie(value,labels = label, autopct = '%0.1f%%', radius = 2)\n",
    "plt.show()\n"
   ]
  },
  {
   "cell_type": "code",
   "execution_count": 8,
   "metadata": {},
   "outputs": [
    {
     "name": "stdout",
     "output_type": "stream",
     "text": [
      "   gender  number\n",
      "0  female      12\n",
      "1    male       8\n"
     ]
    }
   ],
   "source": [
    "#Task 4\n",
    "#Group by the gender from underweight dataframe and create another data frame out of it\n",
    "group_by_gender = underweight_people.groupby('gender')['gender'].count().reset_index(name = 'number')\n",
    "print(group_by_gender)\n"
   ]
  },
  {
   "cell_type": "code",
   "execution_count": 10,
   "metadata": {},
   "outputs": [
    {
     "data": {
      "image/png": "[encoded data removed]",
      "text/plain": [
       "<Figure size 432x288 with 1 Axes>"
      ]
     },
     "metadata": {},
     "output_type": "display_data"
    }
   ],
   "source": [
    "#Task 5\n",
    "#Plot a pie chart as per the percentage of male and female who are underweight\n",
    "name = group_by_gender['number']\n",
    "label = group_by_gender['gender']\n",
    "plt.pie(name, labels = label, autopct = '%0.1f%%', radius = 2)\n",
    "plt.show()\n"
   ]
  },
  {
   "cell_type": "code",
   "execution_count": 11,
   "metadata": {},
   "outputs": [
    {
     "name": "stdout",
     "output_type": "stream",
     "text": [
      "   gender  number\n",
      "0  female     115\n",
      "1    male     106\n"
     ]
    }
   ],
   "source": [
    "#Task 6\n",
    "#Group by the gender from healthy weight dataframe and create another data frame out of it\n",
    "group_by_gender = normalweight.groupby('gender')['gender'].count().reset_index(name = 'number')\n",
    "print(group_by_gender)\n",
    "\n"
   ]
  },
  {
   "cell_type": "code",
   "execution_count": 15,
   "metadata": {},
   "outputs": [
    {
     "data": {
      "image/png": "[encoded data removed]",
      "text/plain": [
       "<Figure size 432x288 with 1 Axes>"
      ]
     },
     "metadata": {},
     "output_type": "display_data"
    }
   ],
   "source": [
    "#Task 7\n",
    "#Plot a pie chart as per the percentage of male and female who are healthy\n",
    "name = group_by_gender['number']\n",
    "label = group_by_gender['gender']\n",
    "plt.pie(name, labels = label, autopct = '%0.1f%%', radius = 2)\n",
    "plt.show()"
   ]
  },
  {
   "cell_type": "code",
   "execution_count": null,
   "metadata": {},
   "outputs": [],
   "source": []
  }
 ],
 "metadata": {
  "kernelspec": {
   "display_name": "Python 3 (ipykernel)",
   "language": "python",
   "name": "python3"
  },
  "language_info": {
   "codemirror_mode": {
    "name": "ipython",
    "version": 3
   },
   "file_extension": ".py",
   "mimetype": "text/x-python",
   "name": "python",
   "nbconvert_exporter": "python",
   "pygments_lexer": "ipython3",
   "version": "3.9.7"
  }
 },
 "nbformat": 4,
 "nbformat_minor": 4
}
